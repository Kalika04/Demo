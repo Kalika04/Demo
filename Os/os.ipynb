{
 "cells": [
  {
   "cell_type": "code",
   "execution_count": null,
   "id": "955e5bed",
   "metadata": {},
   "outputs": [],
   "source": [
    "import os"
   ]
  },
  {
   "cell_type": "code",
   "execution_count": 2,
   "id": "ad8f7592",
   "metadata": {},
   "outputs": [],
   "source": [
    "file =os.getcwd()"
   ]
  },
  {
   "cell_type": "code",
   "execution_count": 3,
   "id": "ed6dfd81",
   "metadata": {},
   "outputs": [
    {
     "name": "stdout",
     "output_type": "stream",
     "text": [
      "current working directory c:\\Users\\LENOVO\\Desktop\\Internship 25\\Os\n"
     ]
    }
   ],
   "source": [
    "print(\"current working directory\",file)"
   ]
  },
  {
   "cell_type": "code",
   "execution_count": 4,
   "id": "578dba13",
   "metadata": {},
   "outputs": [
    {
     "data": {
      "text/plain": [
       "['os.ipynb']"
      ]
     },
     "execution_count": 4,
     "metadata": {},
     "output_type": "execute_result"
    }
   ],
   "source": [
    "os.listdir()"
   ]
  },
  {
   "cell_type": "code",
   "execution_count": 5,
   "id": "ab52dd42",
   "metadata": {},
   "outputs": [],
   "source": [
    "os.mkdir(\"demo\")"
   ]
  },
  {
   "cell_type": "code",
   "execution_count": 6,
   "id": "6a86ab1a",
   "metadata": {},
   "outputs": [
    {
     "data": {
      "text/plain": [
       "['demo', 'os.ipynb']"
      ]
     },
     "execution_count": 6,
     "metadata": {},
     "output_type": "execute_result"
    }
   ],
   "source": [
    "os.listdir()"
   ]
  },
  {
   "cell_type": "code",
   "execution_count": 7,
   "id": "0d6cce82",
   "metadata": {},
   "outputs": [],
   "source": [
    "os.rename(\"demo\",\"data science\")"
   ]
  },
  {
   "cell_type": "code",
   "execution_count": 9,
   "id": "81adbf52",
   "metadata": {},
   "outputs": [
    {
     "data": {
      "text/plain": [
       "['os.ipynb']"
      ]
     },
     "execution_count": 9,
     "metadata": {},
     "output_type": "execute_result"
    }
   ],
   "source": [
    "os.rmdir(\"data science\")\n",
    "os.listdir()"
   ]
  },
  {
   "cell_type": "code",
   "execution_count": null,
   "id": "ee8bb161",
   "metadata": {},
   "outputs": [],
   "source": [
    "# os.remove(\"filename\")"
   ]
  },
  {
   "cell_type": "code",
   "execution_count": 15,
   "id": "81fdc7c2",
   "metadata": {},
   "outputs": [],
   "source": [
    "os.getcwd()\n",
    "path ='c:\\\\Users\\\\LENOVO\\\\Desktop\\\\Internship 25\\\\Os'"
   ]
  },
  {
   "cell_type": "code",
   "execution_count": 16,
   "id": "c642de43",
   "metadata": {},
   "outputs": [],
   "source": [
    "path = os.environ.get(path)\n",
    "\n"
   ]
  },
  {
   "cell_type": "code",
   "execution_count": 17,
   "id": "5ec1dc07",
   "metadata": {},
   "outputs": [
    {
     "data": {
      "text/plain": [
       "['os.ipynb']"
      ]
     },
     "execution_count": 17,
     "metadata": {},
     "output_type": "execute_result"
    }
   ],
   "source": [
    "os.listdir(r\"c:\\\\Users\\\\LENOVO\\\\Desktop\\\\Internship 25\\\\Os\")"
   ]
  },
  {
   "cell_type": "code",
   "execution_count": 25,
   "id": "df8d4431",
   "metadata": {},
   "outputs": [
    {
     "data": {
      "text/plain": [
       "True"
      ]
     },
     "execution_count": 25,
     "metadata": {},
     "output_type": "execute_result"
    }
   ],
   "source": [
    "os.path.isfile(r\"C:\\Users\\LENOVO\\Desktop\\6th sem\\ISS\\Information security and system.pdf\")"
   ]
  },
  {
   "cell_type": "code",
   "execution_count": 26,
   "id": "4e39d964",
   "metadata": {},
   "outputs": [
    {
     "data": {
      "text/plain": [
       "True"
      ]
     },
     "execution_count": 26,
     "metadata": {},
     "output_type": "execute_result"
    }
   ],
   "source": [
    "os.path.isfile(r\"C:\\Users\\LENOVO\\Desktop\\6th sem\\ISS\\ISS RTU NOtes.pdf\")"
   ]
  }
 ],
 "metadata": {
  "kernelspec": {
   "display_name": "Python 3",
   "language": "python",
   "name": "python3"
  },
  "language_info": {
   "codemirror_mode": {
    "name": "ipython",
    "version": 3
   },
   "file_extension": ".py",
   "mimetype": "text/x-python",
   "name": "python",
   "nbconvert_exporter": "python",
   "pygments_lexer": "ipython3",
   "version": "3.11.5"
  }
 },
 "nbformat": 4,
 "nbformat_minor": 5
}
