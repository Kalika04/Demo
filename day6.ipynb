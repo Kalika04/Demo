{
 "cells": [
  {
   "cell_type": "markdown",
   "id": "b939cb50",
   "metadata": {},
   "source": [
    "Exception handling"
   ]
  },
  {
   "cell_type": "code",
   "execution_count": null,
   "id": "3b4d0b7a",
   "metadata": {},
   "outputs": [],
   "source": [
    "#try    [main code]\n",
    "# pass\n",
    "# except  [code to handle exception(error)]\n",
    "# pass\n",
    "# else    [code to execute]\n",
    "# pass\n",
    "# finally  [code o execute]\n",
    "# pass"
   ]
  },
  {
   "cell_type": "code",
   "execution_count": 2,
   "id": "e317622f",
   "metadata": {},
   "outputs": [
    {
     "name": "stdout",
     "output_type": "stream",
     "text": [
      "you cannot divide by zero!\n"
     ]
    }
   ],
   "source": [
    "try :\n",
    "    x =10/0 # error\n",
    "    print(x)\n",
    "except:\n",
    "    print(\"you cannot divide by zero!\")    \n"
   ]
  },
  {
   "cell_type": "code",
   "execution_count": 3,
   "id": "ee430346",
   "metadata": {},
   "outputs": [
    {
     "name": "stdout",
     "output_type": "stream",
     "text": [
      "5.0\n"
     ]
    }
   ],
   "source": [
    "try :\n",
    "    x =10/2\n",
    "    print(x)\n",
    "except:\n",
    "    print(\"you cannot divide by zero!\") "
   ]
  },
  {
   "cell_type": "code",
   "execution_count": null,
   "metadata": {},
   "outputs": [],
   "source": [
    "# ZeroDivisionError\n",
    "# ValueError\n",
    "# TabError\n",
    "# KeyError\n",
    "# NameError\n",
    "# AttributeError\n",
    "# SyntaxError\n",
    "# ImportError\n",
    "# ModuleNotFoundError\n",
    "# OSError\n"
   ]
  },
  {
   "cell_type": "code",
   "execution_count": 4,
   "id": "cf3af25c",
   "metadata": {},
   "outputs": [
    {
     "name": "stdout",
     "output_type": "stream",
     "text": [
      "you cannot divide by zero!\n",
      "division by zero\n"
     ]
    }
   ],
   "source": [
    "try:\n",
    "    x=10/0\n",
    "\n",
    "except Exception as e:\n",
    "     print(\"you cannot divide by zero!\") \n",
    "     print(e)\n",
    "    \n"
   ]
  },
  {
   "cell_type": "code",
   "execution_count": 8,
   "metadata": {},
   "outputs": [
    {
     "name": "stdout",
     "output_type": "stream",
     "text": [
      "invalid input\n",
      "this is always executed\n"
     ]
    }
   ],
   "source": [
    "try:\n",
    "  num=  int(input(\"enter a num:\"))\n",
    "  result =10/num\n",
    "except ValueError:\n",
    "  print(\"invalid input\")\n",
    "except ZeroDivisionError:\n",
    "  print (\"you cannot divide by zero!\") \n",
    "else:\n",
    "  print(\"result\")\n",
    "finally:\n",
    "  print(\"this is always executed\")     \n",
    "   "
   ]
  },
  {
   "cell_type": "code",
   "execution_count": 11,
   "id": "4153f8b8",
   "metadata": {},
   "outputs": [
    {
     "name": "stdout",
     "output_type": "stream",
     "text": [
      "index out of range\n",
      "this is executed\n"
     ]
    }
   ],
   "source": [
    "lst =[1,2,3,4]\n",
    "try:\n",
    "    print(lst[5])\n",
    "except IndexError:\n",
    "    print(\"index out of range\")\n",
    "finally:\n",
    "    print(\"this is executed\")        "
   ]
  },
  {
   "cell_type": "code",
   "execution_count": null,
   "id": "6c7d6fd1",
   "metadata": {},
   "outputs": [],
   "source": [
    "dict ={\"name\":\"kalika\"}"
   ]
  },
  {
   "cell_type": "code",
   "execution_count": 13,
   "id": "cb65568e",
   "metadata": {},
   "outputs": [
    {
     "name": "stdout",
     "output_type": "stream",
     "text": [
      "you are eligible to vote\n"
     ]
    }
   ],
   "source": [
    "# Custom Exception\n",
    "\n",
    "class UnderAgeError(Exception):\n",
    "    pass\n",
    "age =int(input(\"enter your age:\"))\n",
    "try:\n",
    "    if age<18:\n",
    "        raise UnderAgeError(\"you are not eligible to vote\")\n",
    "    else:\n",
    "        print(\"you are eligible to vote\")\n",
    "\n",
    "except UnderAgeError as e:\n",
    "    print(e)         "
   ]
  },
  {
   "cell_type": "code",
   "execution_count": null,
   "id": "79b9f4e0",
   "metadata": {},
   "outputs": [],
   "source": []
  },
  {
   "cell_type": "code",
   "execution_count": null,
   "id": "75580f9e",
   "metadata": {},
   "outputs": [],
   "source": []
  },
  {
   "cell_type": "code",
   "execution_count": null,
   "id": "871c314d",
   "metadata": {},
   "outputs": [],
   "source": []
  },
  {
   "cell_type": "code",
   "execution_count": null,
   "id": "3d6c9fc6",
   "metadata": {},
   "outputs": [],
   "source": []
  },
  {
   "cell_type": "code",
   "execution_count": null,
   "id": "6deca6a5",
   "metadata": {},
   "outputs": [],
   "source": []
  },
  {
   "cell_type": "code",
   "execution_count": null,
   "metadata": {},
   "outputs": [],
   "source": []
  },
  {
   "cell_type": "code",
   "execution_count": null,
   "id": "b5abf0f2",
   "metadata": {},
   "outputs": [],
   "source": []
  },
  {
   "cell_type": "code",
   "execution_count": null,
   "id": "45af7105",
   "metadata": {},
   "outputs": [],
   "source": []
  },
  {
   "cell_type": "code",
   "execution_count": null,
   "id": "6bb523f1",
   "metadata": {},
   "outputs": [],
   "source": []
  },
  {
   "cell_type": "code",
   "execution_count": null,
   "id": "b22a6cb3",
   "metadata": {},
   "outputs": [],
   "source": []
  },
  {
   "cell_type": "code",
   "execution_count": null,
   "id": "3934477c",
   "metadata": {},
   "outputs": [],
   "source": []
  }
 ],
 "metadata": {
  "kernelspec": {
   "display_name": "Python 3",
   "language": "python",
   "name": "python3"
  },
  "language_info": {
   "codemirror_mode": {
    "name": "ipython",
    "version": 3
   },
   "file_extension": ".py",
   "mimetype": "text/x-python",
   "name": "python",
   "nbconvert_exporter": "python",
   "pygments_lexer": "ipython3",
   "version": "3.11.5"
  }
 },
 "nbformat": 4,
 "nbformat_minor": 5
}
