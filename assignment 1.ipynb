{
 "cells": [
  {
   "cell_type": "markdown",
   "id": "821d814a",
   "metadata": {},
   "source": [
    "Q1.Define a class `Book` with attributes like `title`, `author`, and `year_published`. Create an instance of the class and print out its attributes."
   ]
  },
  {
   "cell_type": "code",
   "execution_count": 2,
   "id": "15c8c7e0",
   "metadata": {},
   "outputs": [
    {
     "name": "stdout",
     "output_type": "stream",
     "text": [
      "title:a study in scarlet, author: Arthur Conan Doyleand year_published:1887\n"
     ]
    }
   ],
   "source": [
    "class Book:\n",
    "    def __init__(self,title,author,year_published):\n",
    "        self.title = title\n",
    "        self.author =author\n",
    "        self.year_published= year_published\n",
    "    def display(self):\n",
    "        print(f\"title:{self.title}, author:{self.author}and year_published:{self.year_published}\")\n",
    "\n",
    "s1=Book(title = \"a study in scarlet\", author=\" Arthur Conan Doyle\", year_published=\"1887\")\n",
    "s1.display()        \n",
    "\n",
    " "
   ]
  },
  {
   "cell_type": "markdown",
   "id": "76a82e89",
   "metadata": {},
   "source": [
    "Q2.Create a base class `Vehicle` with a method `move`. Then, create two derived classes `Car` and `Bike` that inherit from `Vehicle` and override the `move` method."
   ]
  },
  {
   "cell_type": "markdown",
   "id": "969ce915",
   "metadata": {},
   "source": []
  },
  {
   "cell_type": "code",
   "execution_count": 40,
   "id": "a5c8cf39",
   "metadata": {},
   "outputs": [
    {
     "name": "stdout",
     "output_type": "stream",
     "text": [
      "The vehicle is moving\n",
      "The car is driving on the road\n",
      "The bike is racing on the track\n"
     ]
    }
   ],
   "source": [
    "class Vehicle:\n",
    "       def move(self):\n",
    "        print(\"The vehicle is moving\")\n",
    "      \n",
    "class Car(Vehicle):\n",
    "    def move(self):\n",
    "        print(\"The car is driving on the road\")\n",
    "\n",
    "class Bike(Vehicle):\n",
    "    def move(self):\n",
    "        print(\"The bike is racing on the track\")\n",
    "\n",
    "v = Vehicle()\n",
    "c = Car()\n",
    "b = Bike()\n",
    "\n",
    "v.move()  \n",
    "c.move()  \n",
    "b.move()            "
   ]
  },
  {
   "cell_type": "markdown",
   "id": "0309515d",
   "metadata": {},
   "source": [
    "Q3. Write a function `move_vehicle` that takes an object as input and calls its `move` method. Create different classes (`Boat`, `Airplane`, etc.) that have their own `move` methods and pass their instances to `move_vehicle`."
   ]
  },
  {
   "cell_type": "code",
   "execution_count": 20,
   "id": "ddcd37c3",
   "metadata": {},
   "outputs": [
    {
     "name": "stdout",
     "output_type": "stream",
     "text": [
      "The boat sails on water.\n",
      "The airplane flies in the sky.\n"
     ]
    }
   ],
   "source": [
    "def move_vehicle(vehicle):\n",
    "    vehicle.move()\n",
    "\n",
    "class Boat:\n",
    "    def move(self):\n",
    "        print(\"The boat sails on water.\")\n",
    "\n",
    "class Airplane:\n",
    "    def move(self):\n",
    "        print(\"The airplane flies in the sky.\")\n",
    "\n",
    "boat = Boat()\n",
    "airplane = Airplane()\n",
    "\n",
    "move_vehicle(boat)      \n",
    "move_vehicle(airplane)\n"
   ]
  },
  {
   "cell_type": "markdown",
   "id": "aa65e206",
   "metadata": {},
   "source": [
    "Q4. Define a class `Calculator` with a static\n",
    "method `multiply(a, b)` that returns the product of `a` and `b`, and a class method `from_values` that creates an instance from a list of two values and returns their product.\n",
    "5."
   ]
  },
  {
   "cell_type": "code",
   "execution_count": 23,
   "id": "f0405753",
   "metadata": {},
   "outputs": [
    {
     "name": "stdout",
     "output_type": "stream",
     "text": [
      "multiply: 200\n"
     ]
    }
   ],
   "source": [
    "class Calculator:\n",
    "    def multiply(self,a,b):\n",
    "        return a*b\n",
    "obj=Calculator()\n",
    "print(\"multiply:\",obj.multiply(10,20))        "
   ]
  },
  {
   "cell_type": "markdown",
   "id": "dece72d4",
   "metadata": {},
   "source": [
    "Q5. Create a class `Person` with private attributes `name` and `age`, and methods to set and get these attributes. Ensure that direct access to `name` and `age` is not allowed from outside the class."
   ]
  },
  {
   "cell_type": "code",
   "execution_count": 32,
   "id": "827d6923",
   "metadata": {},
   "outputs": [],
   "source": [
    "class Person:\n",
    "    def __init__(self,name,age):\n",
    "        self.__name=name\n",
    "        self.__age= age\n",
    "    def show_info(self):\n",
    "        print(f\"name {self.nane} and asalay{self.age}\")\n",
    "\n",
    "    def set_name(self, name):\n",
    "         self.__name = name\n",
    "\n",
    "    def set_age(self, age):\n",
    "        if age >= 0:\n",
    "            self.__age = age\n",
    "        else:\n",
    "            print(\"Invalid age. Age must be non-negative.\")\n",
    "\n",
    "    def get_name(self):\n",
    "        return self.__name\n",
    "    def get_age(self):\n",
    "        return self.__age\n",
    "    \n",
    "    \n",
    "    "
   ]
  },
  {
   "cell_type": "markdown",
   "id": "dcd838d2",
   "metadata": {},
   "source": [
    "Q6. Write a class `Product` with an `__init__` method that initializes the product's `name` and `price`. Create an instance of `Product` and print the product's details"
   ]
  },
  {
   "cell_type": "code",
   "execution_count": null,
   "id": "00129e81",
   "metadata": {},
   "outputs": [],
   "source": [
    "class Product:\n",
    "    def __init__(self, name, price):\n",
    "        self.name = name\n",
    "        self.price = price\n",
    "\n",
    "    def display(self):\n",
    "        print(f\"Product Name:{self.name}\")\n",
    "        print(f\"Product Price: ₹{self.price}\")\n",
    "\n",
    "    "
   ]
  },
  {
   "cell_type": "markdown",
   "id": "07bd35d5",
   "metadata": {},
   "source": [
    "Q7. Create two classes `Appliance` and `Electronic` with a method `operate()`. Then, create a class `SmartFridge` that inherits from both `Appliance` and `Electronic` and overrides `operate()`. Use `super()` to demonstrate MRO in `SmartFridge`.\n"
   ]
  },
  {
   "cell_type": "code",
   "execution_count": 41,
   "id": "4901951b",
   "metadata": {},
   "outputs": [
    {
     "name": "stdout",
     "output_type": "stream",
     "text": [
      "it is preparing to operate\n",
      "appliance is operating\n"
     ]
    }
   ],
   "source": [
    "class Appliance:\n",
    "    def operate(self):\n",
    "        print(\"appliance is operating\")\n",
    "\n",
    "class Electronic:\n",
    "    def operate(self):\n",
    "        print(\"electronic device is now operating\")\n",
    "\n",
    "class Smart_fridge(Appliance,Electronic):\n",
    "    def operate(self):\n",
    "        print(\"it is preparing to operate\")\n",
    "        super().operate()\n",
    "\n",
    "fridge = Smart_fridge()\n",
    "fridge.operate()                        \n",
    "\n"
   ]
  },
  {
   "cell_type": "markdown",
   "id": "2d024895",
   "metadata": {},
   "source": [
    "Q8. Implement the `__eq__` and `__lt__` methods in a `Book` class to compare books based on their `year_published`"
   ]
  },
  {
   "cell_type": "code",
   "execution_count": 49,
   "id": "db222b7e",
   "metadata": {},
   "outputs": [
    {
     "name": "stdout",
     "output_type": "stream",
     "text": [
      "False\n",
      "False\n"
     ]
    }
   ],
   "source": [
    "class Book:\n",
    "    def __init__(self,title,year_published):\n",
    "        self.title = title\n",
    "        self.year_published = year_published\n",
    "    def __eq__(self, other):\n",
    "        if isinstance(other, Book):\n",
    "            return self.year_published == other.year_published\n",
    "        return NotImplemented\n",
    "\n",
    "    def __lt__(self, other):\n",
    "        if isinstance(other, Book):\n",
    "            return self.year_published < other.year_published\n",
    "        return NotImplemented  \n",
    "\n",
    "book1 = Book(title =\"a study in scarlet\",year_published= 1949)\n",
    "book2 = Book(title=\"Animal Farm\",year_published= 1949)\n",
    "\n",
    "print(book2 < book1)   \n",
    "print(book1 < book2)\n",
    "\n",
    "\n"
   ]
  },
  {
   "cell_type": "markdown",
   "id": "b0b9f547",
   "metadata": {},
   "source": [
    "Q9. Create a class `Engine` and a class `Truck` that uses composition by having an instance of `Engine` as an attribute of `Truck`."
   ]
  },
  {
   "cell_type": "code",
   "execution_count": 50,
   "id": "69376283",
   "metadata": {},
   "outputs": [
    {
     "name": "stdout",
     "output_type": "stream",
     "text": [
      "Starting truck model: Volvo FH\n",
      "Engine with 400 HP started.\n"
     ]
    }
   ],
   "source": [
    "class Engine:\n",
    "    def __init__(self, horsepower):\n",
    "        self.horsepower = horsepower\n",
    "\n",
    "    def start(self):\n",
    "        print(f\"Engine with {self.horsepower} HP started.\")\n",
    "\n",
    "class Truck:\n",
    "    def __init__(self, model, engine):\n",
    "        self.model = model\n",
    "        self.engine = engine  \n",
    "\n",
    "    def start_truck(self):\n",
    "        print(f\"Starting truck model: {self.model}\")\n",
    "        self.engine.start()\n",
    "\n",
    "engine1 = Engine(400)\n",
    "truck1 = Truck(\"Volvo FH\", engine1)\n",
    "\n",
    "truck1.start_truck()\n",
    "\n"
   ]
  },
  {
   "cell_type": "markdown",
   "id": "bf7b972d",
   "metadata": {},
   "source": [
    "Q10. Write a class `Circle` with attributes `radius`. Use property decorators to create a `diameter` property that returns the diameter of the circle and an `area` property that returns the area of the circle."
   ]
  },
  {
   "cell_type": "code",
   "execution_count": 57,
   "id": "d423f456",
   "metadata": {},
   "outputs": [
    {
     "name": "stdout",
     "output_type": "stream",
     "text": [
      "Radius: 5\n",
      "Diameter: <bound method Circle.diameter of <__main__.Circle object at 0x0000017717846A10>>\n",
      "Area: <bound method Circle.area of <__main__.Circle object at 0x0000017717846A10>>\n"
     ]
    }
   ],
   "source": [
    "class Circle:\n",
    "    def __init__(self, radius):\n",
    "        self.radius = radius\n",
    "\n",
    "  \n",
    "    def diameter(self):\n",
    "        return 2 * self.radius\n",
    "\n",
    "    \n",
    "    def area(self):\n",
    "        return math.pi * (self.radius ** 2)\n",
    "\n",
    "c = Circle(5)\n",
    "print(\"Radius:\", c.radius)\n",
    "print(\"Diameter:\", c.diameter)\n",
    "print(\"Area:\", c.area)"
   ]
  }
 ],
 "metadata": {
  "kernelspec": {
   "display_name": "Python 3",
   "language": "python",
   "name": "python3"
  },
  "language_info": {
   "codemirror_mode": {
    "name": "ipython",
    "version": 3
   },
   "file_extension": ".py",
   "mimetype": "text/x-python",
   "name": "python",
   "nbconvert_exporter": "python",
   "pygments_lexer": "ipython3",
   "version": "3.11.5"
  }
 },
 "nbformat": 4,
 "nbformat_minor": 5
}
