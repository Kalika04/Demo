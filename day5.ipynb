{
 "cells": [
  {
   "cell_type": "markdown",
   "id": "1d71c4dd",
   "metadata": {},
   "source": [
    "OOPS\n"
   ]
  },
  {
   "cell_type": "code",
   "execution_count": 6,
   "id": "9987efbd",
   "metadata": {},
   "outputs": [],
   "source": [
    "class Myclass:\n",
    "    y=5\n",
    "    x=10\n"
   ]
  },
  {
   "cell_type": "code",
   "execution_count": 9,
   "id": "72925e55",
   "metadata": {},
   "outputs": [],
   "source": [
    "# create object\n",
    "p1= Myclass() # p1 is object and my class is class"
   ]
  },
  {
   "cell_type": "code",
   "execution_count": 10,
   "metadata": {},
   "outputs": [
    {
     "name": "stdout",
     "output_type": "stream",
     "text": [
      "10\n",
      "5\n"
     ]
    }
   ],
   "source": [
    "print(p1.x)\n",
    "print(p1.y)"
   ]
  },
  {
   "cell_type": "code",
   "execution_count": null,
   "id": "a35dab25",
   "metadata": {},
   "outputs": [],
   "source": [
    "# inheritence\n",
    "# polymorphism\n",
    "# abstraction\n",
    "# encapsulation"
   ]
  },
  {
   "cell_type": "markdown",
   "id": "1c2b9d1e",
   "metadata": {},
   "source": [
    "# inheritence\n",
    "single inheritence\n",
    "multiple inheritence\n",
    "multilevel inheritence\n",
    "hybrid inheritence"
   ]
  },
  {
   "cell_type": "code",
   "execution_count": 14,
   "metadata": {},
   "outputs": [
    {
     "name": "stdout",
     "output_type": "stream",
     "text": [
      "hemant\n",
      "sunita\n",
      "rahul\n"
     ]
    }
   ],
   "source": [
    "# Single inheritence\n",
    "\n",
    "class Parent:\n",
    "    father_name =\"hemant\"\n",
    "    mother_name=\"sunita\"\n",
    "\n",
    "class Child(Parent):\n",
    "    child_name= (\"rahul\")\n",
    "child_obj = Child()\n",
    "print (child_obj.father_name)\n",
    "print(child_obj.mother_name)\n",
    "print(child_obj.child_name)       "
   ]
  },
  {
   "cell_type": "code",
   "execution_count": 15,
   "id": "4ac47ad8",
   "metadata": {},
   "outputs": [],
   "source": [
    "# Multilevel inheritence\n",
    "\n",
    "class Grandparent:\n",
    "    grand_father_name=\"hemant\"\n",
    "    grand_mother_name=\"sunita\"\n",
    "class Parent(Grandparent):\n",
    "    father_name=\"ramlal\"\n",
    "    mother_name=\"rani\"    \n",
    "class Child(Parent):\n",
    "    Child_name=\"rahul\"\n",
    "class_obj= Child()    \n"
   ]
  },
  {
   "cell_type": "code",
   "execution_count": 20,
   "id": "a1e4fd67",
   "metadata": {},
   "outputs": [
    {
     "ename": "NameError",
     "evalue": "name 'Child_obj' is not defined",
     "output_type": "error",
     "traceback": [
      "\u001b[31m---------------------------------------------------------------------------\u001b[39m",
      "\u001b[31mNameError\u001b[39m                                 Traceback (most recent call last)",
      "\u001b[36mCell\u001b[39m\u001b[36m \u001b[39m\u001b[32mIn[20]\u001b[39m\u001b[32m, line 1\u001b[39m\n\u001b[32m----> \u001b[39m\u001b[32m1\u001b[39m \u001b[38;5;28mprint\u001b[39m(\u001b[33mf\u001b[39m\u001b[33m\"\u001b[39m\u001b[33mgrand father name\u001b[39m\u001b[33m\"\u001b[39m,\u001b[43mChild_obj\u001b[49m.grand_father_name)\n\u001b[32m      2\u001b[39m \u001b[38;5;28mprint\u001b[39m(\u001b[33mf\u001b[39m\u001b[33m\"\u001b[39m\u001b[33mgrand mother name\u001b[39m\u001b[33m\"\u001b[39m,Child_obj.grand_mother_name)\n\u001b[32m      3\u001b[39m \u001b[38;5;28mprint\u001b[39m(child_obj.father_name)\n",
      "\u001b[31mNameError\u001b[39m: name 'Child_obj' is not defined"
     ]
    }
   ],
   "source": [
    "print(f\"grand father name\",Child_obj.grand_father_name)\n",
    "print(f\"grand mother name\",Child_obj.grand_mother_name)\n",
    "print(child_obj.father_name)\n",
    "print(child_obj.mother_name)\n",
    "print(child_obj.child_name)"
   ]
  },
  {
   "cell_type": "code",
   "execution_count": null,
   "id": "df7eb270",
   "metadata": {},
   "outputs": [],
   "source": [
    "class Parent:\n",
    "    father_name =\"hemant\"\n",
    "    mother_name =\"sunita\"\n",
    "class Uncle    "
   ]
  },
  {
   "cell_type": "code",
   "execution_count": 24,
   "id": "1af90838",
   "metadata": {},
   "outputs": [
    {
     "name": "stdout",
     "output_type": "stream",
     "text": [
      "addition 30\n",
      "multiply 243.6\n"
     ]
    }
   ],
   "source": [
    "class Calculator:\n",
    "    def add(self,a,b):\n",
    "        return a+b\n",
    "    def multiply(self,a,b):\n",
    "        return a*b\n",
    "    \n",
    "obj=Calculator()\n",
    "print(\"addition\",obj.add(10,20))\n",
    "print(\"multiply\",obj.multiply(10.5,23.2)) "
   ]
  },
  {
   "cell_type": "code",
   "execution_count": 28,
   "metadata": {},
   "outputs": [
    {
     "name": "stdout",
     "output_type": "stream",
     "text": [
      "student name:ritik,and studemt age: 22\n"
     ]
    }
   ],
   "source": [
    "class Student:\n",
    "    def set_data(self,name,age):\n",
    "        self.name=name ## instance variable\n",
    "        self.age=age ## instance variable\n",
    "\n",
    "    def display(self):\n",
    "        print(f\"student name:{self.name},and studemt age: {self.age}\")\n",
    "\n",
    "obj = Student()\n",
    "\n",
    "obj.set_data(\"ritik\",22)\n",
    "\n",
    "obj.display()"
   ]
  },
  {
   "cell_type": "code",
   "execution_count": null,
   "id": "b9211ad8",
   "metadata": {},
   "outputs": [],
   "source": [
    "# area of circle\n",
    "\n",
    "class Circle:\n",
    "    def get_radius(self,radius):\n",
    "        self.radius =radius\n",
    "        \n",
    "    def set_area(self,area):\n",
    "        self.area\n",
    "\n",
    "def display(self):\n",
    "    print(f\"area of cirlce\"{self.radius},{self.area})\n",
    "\n",
    "    \n",
    "        \n"
   ]
  },
  {
   "cell_type": "code",
   "execution_count": 31,
   "id": "eeea6a16",
   "metadata": {},
   "outputs": [],
   "source": [
    "# Constructor\n",
    "\n",
    "class Classname:\n",
    "    def __init__(self,parameter1,parameter2):\n",
    "        pass"
   ]
  },
  {
   "cell_type": "code",
   "execution_count": 33,
   "id": "4233c1e1",
   "metadata": {},
   "outputs": [
    {
     "name": "stdout",
     "output_type": "stream",
     "text": [
      "Student name:Ritik,and roll:22\n"
     ]
    }
   ],
   "source": [
    "class Student:\n",
    "    def __init__(self,name,roll):\n",
    "        self.name = name\n",
    "        self.roll =roll\n",
    "    def display(self):\n",
    "        print(f\"Student name:{self.name},and roll:{self.roll}\")\n",
    "\n",
    "s1=Student(name = \"Ritik\", roll=22)\n",
    "s1.display()"
   ]
  },
  {
   "cell_type": "code",
   "execution_count": 34,
   "id": "e5e984d4",
   "metadata": {},
   "outputs": [
    {
     "name": "stdout",
     "output_type": "stream",
     "text": [
      "Nameste\n"
     ]
    }
   ],
   "source": [
    "class Demo:\n",
    "    def __init__(self):\n",
    "        print(\"Nameste\")\n",
    "\n",
    "obj =Demo()        "
   ]
  },
  {
   "cell_type": "code",
   "execution_count": 40,
   "id": "f542075e",
   "metadata": {},
   "outputs": [
    {
     "name": "stdout",
     "output_type": "stream",
     "text": [
      "brand name:maruti,model:2023, and engine:25CC\n"
     ]
    }
   ],
   "source": [
    "class Car:\n",
    "    def __init__(self,brand,model,engine):\n",
    "        self.brand =brand\n",
    "        self.model = model\n",
    "        self.engine = engine\n",
    "    def display(self):\n",
    "        print(f\"brand name:{self.brand},model:{self.model}, and engine:{self.engine}\")\n",
    "\n",
    "s1=Car(brand= \"maruti\", model=\"2023\", engine =\"25CC\") \n",
    "s1.display()           "
   ]
  },
  {
   "cell_type": "markdown",
   "id": "6c161f11",
   "metadata": {},
   "source": [
    "Encapsulation in python\n"
   ]
  },
  {
   "cell_type": "code",
   "execution_count": 9,
   "id": "cfcf0a94",
   "metadata": {},
   "outputs": [],
   "source": [
    "class Employee:\n",
    "    def __init__(self,name,salary):\n",
    "        self.name=name    ## public variable\n",
    "        self.__salary= salary ## private variable\n",
    "    def show_info(self):\n",
    "        print(f\"name {self.name} and salary{self.salary}\")\n",
    "\n",
    "\n",
    "        ##getter method    \n",
    "\n",
    "    def get_salary(self):\n",
    "        return self.__salary\n",
    "\n",
    "      ## setter method\n",
    "    def set_salary(self,amount):\n",
    "        if amount>0:\n",
    "\n",
    "            self.__salary=amount\n",
    "        else:  \n",
    "            print(\"invalid salary\")\n",
    "obj= Employee(name=\"ritik\", salary=50000)  \n",
    "                    "
   ]
  },
  {
   "cell_type": "code",
   "execution_count": 10,
   "id": "3e37dddd",
   "metadata": {},
   "outputs": [
    {
     "ename": "AttributeError",
     "evalue": "'Employee' object has no attribute 'salary'",
     "output_type": "error",
     "traceback": [
      "\u001b[31m---------------------------------------------------------------------------\u001b[39m",
      "\u001b[31mAttributeError\u001b[39m                            Traceback (most recent call last)",
      "\u001b[36mCell\u001b[39m\u001b[36m \u001b[39m\u001b[32mIn[10]\u001b[39m\u001b[32m, line 1\u001b[39m\n\u001b[32m----> \u001b[39m\u001b[32m1\u001b[39m \u001b[43mobj\u001b[49m\u001b[43m.\u001b[49m\u001b[43mshow_info\u001b[49m\u001b[43m(\u001b[49m\u001b[43m)\u001b[49m\n",
      "\u001b[36mCell\u001b[39m\u001b[36m \u001b[39m\u001b[32mIn[9]\u001b[39m\u001b[32m, line 6\u001b[39m, in \u001b[36mEmployee.show_info\u001b[39m\u001b[34m(self)\u001b[39m\n\u001b[32m      5\u001b[39m \u001b[38;5;28;01mdef\u001b[39;00m\u001b[38;5;250m \u001b[39m\u001b[34mshow_info\u001b[39m(\u001b[38;5;28mself\u001b[39m):\n\u001b[32m----> \u001b[39m\u001b[32m6\u001b[39m     \u001b[38;5;28mprint\u001b[39m(\u001b[33mf\u001b[39m\u001b[33m\"\u001b[39m\u001b[33mname \u001b[39m\u001b[38;5;132;01m{\u001b[39;00m\u001b[38;5;28mself\u001b[39m.name\u001b[38;5;132;01m}\u001b[39;00m\u001b[33m and salary\u001b[39m\u001b[38;5;132;01m{\u001b[39;00m\u001b[38;5;28;43mself\u001b[39;49m\u001b[43m.\u001b[49m\u001b[43msalary\u001b[49m\u001b[38;5;132;01m}\u001b[39;00m\u001b[33m\"\u001b[39m)\n",
      "\u001b[31mAttributeError\u001b[39m: 'Employee' object has no attribute 'salary'"
     ]
    }
   ],
   "source": [
    "obj.show_info()"
   ]
  },
  {
   "cell_type": "code",
   "execution_count": null,
   "id": "20943e75",
   "metadata": {},
   "outputs": [],
   "source": []
  },
  {
   "cell_type": "code",
   "execution_count": 17,
   "id": "00090882",
   "metadata": {},
   "outputs": [
    {
     "name": "stdout",
     "output_type": "stream",
     "text": [
      "No value\n",
      "Value: 10\n"
     ]
    }
   ],
   "source": [
    "class A:\n",
    "    def display(self, x=None):\n",
    "        if x:\n",
    "            print(\"Value:\", x)\n",
    "        else:\n",
    "            print(\"No value\")\n",
    "\n",
    "obj = A()\n",
    "obj.display()\n",
    "obj.display(10)\n",
    "  "
   ]
  }
 ],
 "metadata": {
  "kernelspec": {
   "display_name": "Python 3",
   "language": "python",
   "name": "python3"
  },
  "language_info": {
   "codemirror_mode": {
    "name": "ipython",
    "version": 3
   },
   "file_extension": ".py",
   "mimetype": "text/x-python",
   "name": "python",
   "nbconvert_exporter": "python",
   "pygments_lexer": "ipython3",
   "version": "3.11.5"
  }
 },
 "nbformat": 4,
 "nbformat_minor": 5
}
