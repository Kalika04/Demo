{
 "cells": [
  {
   "cell_type": "markdown",
   "id": "9fe00244",
   "metadata": {},
   "source": [
    "ATM Simulator\n"
   ]
  },
  {
   "cell_type": "code",
   "execution_count": 2,
   "id": "39724ab6",
   "metadata": {},
   "outputs": [
    {
     "name": "stdout",
     "output_type": "stream",
     "text": [
      "hello kalika\n",
      "\n",
      "how may I help you;\n",
      "\n",
      "please select any of the option,\n",
      "type 1>>>>> CHECK BALANCE.\n",
      "type 2>>>>> DEPOSIT.\n",
      "type 3>>>>>>WITHDRAWL.\n",
      "\n",
      "your available balance is:  10000\n"
     ]
    }
   ],
   "source": [
    "name = input(\"please enter your name\")\n",
    "print(\"hello\", name)\n",
    "balance = 10000\n",
    "message = \"\"\"\n",
    "how may I help you;\n",
    "\n",
    "please select any of the option,\n",
    "type 1>>>>> CHECK BALANCE.\n",
    "type 2>>>>> DEPOSIT.\n",
    "type 3>>>>>>WITHDRAWL.\n",
    "\"\"\"\n",
    "\n",
    "print(message)\n",
    "task = int(input(\"please enter your option: \"))\n",
    "if task==1:\n",
    "    print(\"your available balance is: \", balance)\n",
    "elif task ==2:\n",
    "   deposit_balance = int(input(\"enter your desired amount to deposit =\"))\n",
    "   balance = balance + deposit_balance\n",
    "   print(balance)\n",
    "else:\n",
    "    withdrawl_balance = int(input(\"enter the amount to withdrawl =\"))\n",
    "    if withdrawl_balance <= balance :\n",
    "        balance = balance - withdrawl_balance\n",
    "        print(balance)\n",
    "    else: \n",
    "        print(\"withdrawl balance is greater than your account balance = \")"
   ]
  }
 ],
 "metadata": {
  "kernelspec": {
   "display_name": "Python 3",
   "language": "python",
   "name": "python3"
  },
  "language_info": {
   "codemirror_mode": {
    "name": "ipython",
    "version": 3
   },
   "file_extension": ".py",
   "mimetype": "text/x-python",
   "name": "python",
   "nbconvert_exporter": "python",
   "pygments_lexer": "ipython3",
   "version": "3.11.5"
  }
 },
 "nbformat": 4,
 "nbformat_minor": 5
}
